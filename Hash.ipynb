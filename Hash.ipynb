{
  "nbformat": 4,
  "nbformat_minor": 0,
  "metadata": {
    "colab": {
      "provenance": [],
      "authorship_tag": "ABX9TyMFgf+oU3iTCadybshirG53",
      "include_colab_link": true
    },
    "kernelspec": {
      "name": "python3",
      "display_name": "Python 3"
    },
    "language_info": {
      "name": "python"
    }
  },
  "cells": [
    {
      "cell_type": "markdown",
      "metadata": {
        "id": "view-in-github",
        "colab_type": "text"
      },
      "source": [
        "<a href=\"https://colab.research.google.com/github/LPProjects/Hash/blob/main/Hash.ipynb\" target=\"_parent\"><img src=\"https://colab.research.google.com/assets/colab-badge.svg\" alt=\"Open In Colab\"/></a>"
      ]
    },
    {
      "cell_type": "code",
      "execution_count": null,
      "metadata": {
        "id": "UTTF2IufsdKV"
      },
      "outputs": [],
      "source": [
        "import hashlib "
      ]
    },
    {
      "cell_type": "code",
      "source": [
        "h = hashlib.new(\"SHA256\")\n",
        "correct_password = \"MyPassword1234567\"\n",
        "h.update(correct_password.encode())\n",
        "\n",
        "password_hash = h.hexdigest()\n",
        "print(password_hash)\n",
        "\n",
        "\n",
        "user_input = \"MyPassword123467\"\n",
        "h = hashlib.new(\"SHA256\")\n",
        "h.update(user_input.encode())\n",
        "input_hash = h.hexdigest()\n",
        "print(input_hash == password_hash)"
      ],
      "metadata": {
        "colab": {
          "base_uri": "https://localhost:8080/"
        },
        "id": "lZQ4JgI1sifJ",
        "outputId": "dba4276b-f18d-4713-de9e-a37877635970"
      },
      "execution_count": null,
      "outputs": [
        {
          "output_type": "stream",
          "name": "stdout",
          "text": [
            "ff476a6f70518370078be24700f02992de7ffa324637c1bbd9e7481e5ed961c3\n",
            "False\n"
          ]
        }
      ]
    },
    {
      "cell_type": "code",
      "source": [
        "print(h.digest())\n",
        "print(h.hexdigest())"
      ],
      "metadata": {
        "colab": {
          "base_uri": "https://localhost:8080/"
        },
        "id": "j9Xr0gSRtxUQ",
        "outputId": "efcb408f-83a3-4c9c-dc4b-8df69ad76831"
      },
      "execution_count": null,
      "outputs": [
        {
          "output_type": "stream",
          "name": "stdout",
          "text": [
            "b'\\x7f\\x83\\xb1e\\x7f\\xf1\\xfcS\\xb9-\\xc1\\x81H\\xa1\\xd6]\\xfc-K\\x1f\\xa3\\xd6w(J\\xdd\\xd2\\x00\\x12m\\x90i'\n",
            "7f83b1657ff1fc53b92dc18148a1d65dfc2d4b1fa3d677284addd200126d9069\n"
          ]
        }
      ]
    }
  ]
}